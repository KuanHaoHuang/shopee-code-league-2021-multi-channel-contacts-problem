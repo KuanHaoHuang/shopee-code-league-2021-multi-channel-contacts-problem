{
  "nbformat": 4,
  "nbformat_minor": 0,
  "metadata": {
    "colab": {
      "name": "multi-channel-contacts.ipynb",
      "provenance": []
    },
    "kernelspec": {
      "display_name": "Python 3",
      "name": "python3"
    }
  },
  "cells": [
    {
      "cell_type": "code",
      "metadata": {
        "colab": {
          "base_uri": "https://localhost:8080/"
        },
        "id": "y6KEk6k9ExE2",
        "outputId": "6a0bc99a-5b7e-46af-a935-22bbf4e2966f"
      },
      "source": [
        "from google.colab import drive\n",
        "import os\n",
        "drive.mount('/content/gdrive')"
      ],
      "execution_count": 1,
      "outputs": [
        {
          "output_type": "stream",
          "text": [
            "Drive already mounted at /content/gdrive; to attempt to forcibly remount, call drive.mount(\"/content/gdrive\", force_remount=True).\n"
          ],
          "name": "stdout"
        }
      ]
    },
    {
      "cell_type": "code",
      "metadata": {
        "id": "YfGgvHCpJO-k"
      },
      "source": [
        "import json\n",
        "with open('gdrive/MyDrive/contacts.json') as f:\n",
        "  data = json.loads(f.read())\n",
        "for x in data:\n",
        "  x['Id'] = str(x['Id'])"
      ],
      "execution_count": 2,
      "outputs": []
    },
    {
      "cell_type": "code",
      "metadata": {
        "colab": {
          "base_uri": "https://localhost:8080/"
        },
        "id": "MGf5WhHJJehk",
        "outputId": "98b8b74c-ca26-4f65-917f-7ca7d4b66edf"
      },
      "source": [
        "data[0:3]"
      ],
      "execution_count": 3,
      "outputs": [
        {
          "output_type": "execute_result",
          "data": {
            "text/plain": [
              "[{'Contacts': 1,\n",
              "  'Email': 'gkzAbIy@qq.com',\n",
              "  'Id': '0',\n",
              "  'OrderId': '',\n",
              "  'Phone': ''},\n",
              " {'Contacts': 4,\n",
              "  'Email': '',\n",
              "  'Id': '1',\n",
              "  'OrderId': 'vDDJJcxfLtSfkooPhbYnJdxov',\n",
              "  'Phone': '329442681752'},\n",
              " {'Contacts': 0, 'Email': '', 'Id': '2', 'OrderId': '', 'Phone': '9125983679'}]"
            ]
          },
          "metadata": {
            "tags": []
          },
          "execution_count": 3
        }
      ]
    },
    {
      "cell_type": "code",
      "metadata": {
        "id": "PtblwiZeJ5ug"
      },
      "source": [
        "import pandas as pd\n",
        "df = pd.json_normalize(data)"
      ],
      "execution_count": 4,
      "outputs": []
    },
    {
      "cell_type": "code",
      "metadata": {
        "colab": {
          "base_uri": "https://localhost:8080/",
          "height": 204
        },
        "id": "DoOqLG3jKXj9",
        "outputId": "64ae2a52-3c99-4d38-faf8-92f8eac223de"
      },
      "source": [
        "df.head()"
      ],
      "execution_count": 5,
      "outputs": [
        {
          "output_type": "execute_result",
          "data": {
            "text/html": [
              "<div>\n",
              "<style scoped>\n",
              "    .dataframe tbody tr th:only-of-type {\n",
              "        vertical-align: middle;\n",
              "    }\n",
              "\n",
              "    .dataframe tbody tr th {\n",
              "        vertical-align: top;\n",
              "    }\n",
              "\n",
              "    .dataframe thead th {\n",
              "        text-align: right;\n",
              "    }\n",
              "</style>\n",
              "<table border=\"1\" class=\"dataframe\">\n",
              "  <thead>\n",
              "    <tr style=\"text-align: right;\">\n",
              "      <th></th>\n",
              "      <th>Id</th>\n",
              "      <th>Email</th>\n",
              "      <th>Phone</th>\n",
              "      <th>Contacts</th>\n",
              "      <th>OrderId</th>\n",
              "    </tr>\n",
              "  </thead>\n",
              "  <tbody>\n",
              "    <tr>\n",
              "      <th>0</th>\n",
              "      <td>0</td>\n",
              "      <td>gkzAbIy@qq.com</td>\n",
              "      <td></td>\n",
              "      <td>1</td>\n",
              "      <td></td>\n",
              "    </tr>\n",
              "    <tr>\n",
              "      <th>1</th>\n",
              "      <td>1</td>\n",
              "      <td></td>\n",
              "      <td>329442681752</td>\n",
              "      <td>4</td>\n",
              "      <td>vDDJJcxfLtSfkooPhbYnJdxov</td>\n",
              "    </tr>\n",
              "    <tr>\n",
              "      <th>2</th>\n",
              "      <td>2</td>\n",
              "      <td></td>\n",
              "      <td>9125983679</td>\n",
              "      <td>0</td>\n",
              "      <td></td>\n",
              "    </tr>\n",
              "    <tr>\n",
              "      <th>3</th>\n",
              "      <td>3</td>\n",
              "      <td>mdllpYmE@gmail.com</td>\n",
              "      <td></td>\n",
              "      <td>0</td>\n",
              "      <td>bHquEnCbbsGLqllwryxPsNOxa</td>\n",
              "    </tr>\n",
              "    <tr>\n",
              "      <th>4</th>\n",
              "      <td>4</td>\n",
              "      <td></td>\n",
              "      <td>300364407</td>\n",
              "      <td>2</td>\n",
              "      <td></td>\n",
              "    </tr>\n",
              "  </tbody>\n",
              "</table>\n",
              "</div>"
            ],
            "text/plain": [
              "  Id               Email         Phone  Contacts                    OrderId\n",
              "0  0      gkzAbIy@qq.com                       1                           \n",
              "1  1                      329442681752         4  vDDJJcxfLtSfkooPhbYnJdxov\n",
              "2  2                        9125983679         0                           \n",
              "3  3  mdllpYmE@gmail.com                       0  bHquEnCbbsGLqllwryxPsNOxa\n",
              "4  4                         300364407         2                           "
            ]
          },
          "metadata": {
            "tags": []
          },
          "execution_count": 5
        }
      ]
    },
    {
      "cell_type": "code",
      "metadata": {
        "colab": {
          "base_uri": "https://localhost:8080/"
        },
        "id": "UJQxoSZVLKxk",
        "outputId": "17be5adf-967d-49a9-911e-2a89cbaa792c"
      },
      "source": [
        "print(len(df[(df.Email != \"\") | (df.Phone != \"\") | (df.OrderId != \"\")]))\n",
        "print(df.Email.nunique())\n",
        "print(df.Phone.nunique())\n",
        "print(df.OrderId.nunique())"
      ],
      "execution_count": 6,
      "outputs": [
        {
          "output_type": "stream",
          "text": [
            "500000\n",
            "249157\n",
            "190678\n",
            "189303\n"
          ],
          "name": "stdout"
        }
      ]
    },
    {
      "cell_type": "code",
      "metadata": {
        "id": "JiQm19y1JJdn"
      },
      "source": [
        "# singly linked list\n",
        "class Node:\n",
        "  def __init__(self, value=None):\n",
        "    self.next = None\n",
        "    self.value = set([value]) if value is not None else set()\n",
        "\n",
        "def get_deepest_node(node):\n",
        "  while node.next is not None:\n",
        "    node = node.next\n",
        "  return node\n",
        "\n",
        "def gen_new_node(node_list):\n",
        "  # connect each node in the node_list to a new_node\n",
        "  # (all the nodes in the node_list share the same new_node object)\n",
        "  # the value of new_node is the union of all its previous nodes \n",
        "  new_node = Node()\n",
        "  for nd in node_list:\n",
        "    nd.next = new_node\n",
        "    new_node.value = new_node.value.union(nd.value)"
      ],
      "execution_count": 7,
      "outputs": []
    },
    {
      "cell_type": "code",
      "metadata": {
        "id": "a6MbXVaMJ-FE"
      },
      "source": [
        "# initialization，give each Id a brand new node\n",
        "res = dict() # Id -> Node\n",
        "for x in data:\n",
        "  res[x['Id']] = Node(x['Id'])"
      ],
      "execution_count": 8,
      "outputs": []
    },
    {
      "cell_type": "code",
      "metadata": {
        "colab": {
          "base_uri": "https://localhost:8080/"
        },
        "id": "V_ijRZN5LkIZ",
        "outputId": "0dd38521-e7db-46d3-ca6e-6b0ef29a5b58"
      },
      "source": [
        "print(res['0'])\n",
        "print(get_deepest_node(res['0']))\n",
        "print(id(res['0']))\n",
        "print(id(get_deepest_node(res['0'])))\n",
        "print(res['0'].next)\n",
        "print(res['0'].value)"
      ],
      "execution_count": 9,
      "outputs": [
        {
          "output_type": "stream",
          "text": [
            "<__main__.Node object at 0x7f0975c70d90>\n",
            "<__main__.Node object at 0x7f0975c70d90>\n",
            "139678607412624\n",
            "139678607412624\n",
            "None\n",
            "{'0'}\n"
          ],
          "name": "stdout"
        }
      ]
    },
    {
      "cell_type": "code",
      "metadata": {
        "id": "TiFCu6vfL0zk"
      },
      "source": [
        "for feat in ['OrderId', 'Phone', 'Email']:\n",
        "  val_cnt = df[feat].value_counts()\n",
        "  candidate = {x for x in val_cnt[(val_cnt > 1)].index if x != \"\"}\n",
        "  for _, grp in df[df[feat].isin(candidate)].groupby(feat):\n",
        "    group_ids = set(grp.Id)\n",
        "    uniq_nodes = {\n",
        "        id(get_deepest_node(res[id_])): get_deepest_node(res[id_]) \n",
        "        for id_ in group_ids\n",
        "        } # Node_address -> Node_object\n",
        "    gen_new_node([nd for nd in uniq_nodes.values()])\n",
        "    # print(group_ids)\n",
        "    # break"
      ],
      "execution_count": 10,
      "outputs": []
    },
    {
      "cell_type": "code",
      "metadata": {
        "colab": {
          "base_uri": "https://localhost:8080/"
        },
        "id": "ZwY2Cw45PWNC",
        "outputId": "d88a61e5-6ff1-4f16-b0e9-b6956a6faa71"
      },
      "source": [
        "# sanity check\n",
        "for i in {'5', '50'}:\n",
        "  print(i)\n",
        "  print('this')\n",
        "  print(res[i])\n",
        "  print(get_deepest_node(res[i]))\n",
        "  print(id(res[i]))\n",
        "  print(id(get_deepest_node(res[i])))\n",
        "  print(res[i].next)\n",
        "  print(res[i].value)\n",
        "  print('deepest value')\n",
        "  print(get_deepest_node(res[i]).value)\n",
        "  print()"
      ],
      "execution_count": 11,
      "outputs": [
        {
          "output_type": "stream",
          "text": [
            "5\n",
            "this\n",
            "<__main__.Node object at 0x7f0975c70e50>\n",
            "<__main__.Node object at 0x7f0969edc590>\n",
            "139678607412816\n",
            "139678408623504\n",
            "<__main__.Node object at 0x7f096c95bbd0>\n",
            "{'5'}\n",
            "deepest value\n",
            "{'5', '50', '482810', '404324', '458692', '226720', '383605', '215197', '212533'}\n",
            "\n",
            "50\n",
            "this\n",
            "<__main__.Node object at 0x7f0975c72950>\n",
            "<__main__.Node object at 0x7f0969edc590>\n",
            "139678607419728\n",
            "139678408623504\n",
            "<__main__.Node object at 0x7f096e5298d0>\n",
            "{'50'}\n",
            "deepest value\n",
            "{'5', '50', '482810', '404324', '458692', '226720', '383605', '215197', '212533'}\n",
            "\n"
          ],
          "name": "stdout"
        }
      ]
    },
    {
      "cell_type": "code",
      "metadata": {
        "id": "deYryaWoRCF8"
      },
      "source": [
        "# id -> aggregated new id\n",
        "remap = {k: '-'.join(sorted(get_deepest_node(v).value, key=int)) for k, v in res.items()}"
      ],
      "execution_count": 12,
      "outputs": []
    },
    {
      "cell_type": "code",
      "metadata": {
        "colab": {
          "base_uri": "https://localhost:8080/"
        },
        "id": "f6wngE_vRSn6",
        "outputId": "9669e921-7b23-467f-bd40-72f8c495a057"
      },
      "source": [
        "# sanity check\n",
        "for i in sorted({'215197', '50', '404324', '5', '212533', '226720', '458692', '383605', '482810'}, key=int):\n",
        "  print(f'{i:>10}:    {remap[i]}')"
      ],
      "execution_count": 13,
      "outputs": [
        {
          "output_type": "stream",
          "text": [
            "         5:    5-50-212533-215197-226720-383605-404324-458692-482810\n",
            "        50:    5-50-212533-215197-226720-383605-404324-458692-482810\n",
            "    212533:    5-50-212533-215197-226720-383605-404324-458692-482810\n",
            "    215197:    5-50-212533-215197-226720-383605-404324-458692-482810\n",
            "    226720:    5-50-212533-215197-226720-383605-404324-458692-482810\n",
            "    383605:    5-50-212533-215197-226720-383605-404324-458692-482810\n",
            "    404324:    5-50-212533-215197-226720-383605-404324-458692-482810\n",
            "    458692:    5-50-212533-215197-226720-383605-404324-458692-482810\n",
            "    482810:    5-50-212533-215197-226720-383605-404324-458692-482810\n"
          ],
          "name": "stdout"
        }
      ]
    },
    {
      "cell_type": "code",
      "metadata": {
        "colab": {
          "base_uri": "https://localhost:8080/",
          "height": 204
        },
        "id": "QHNP9pM3SN5K",
        "outputId": "1568c856-6b69-4575-c705-58765d65c22d"
      },
      "source": [
        "df['newId'] = [remap[id_] for id_ in df.Id]\n",
        "df.head(5)"
      ],
      "execution_count": 14,
      "outputs": [
        {
          "output_type": "execute_result",
          "data": {
            "text/html": [
              "<div>\n",
              "<style scoped>\n",
              "    .dataframe tbody tr th:only-of-type {\n",
              "        vertical-align: middle;\n",
              "    }\n",
              "\n",
              "    .dataframe tbody tr th {\n",
              "        vertical-align: top;\n",
              "    }\n",
              "\n",
              "    .dataframe thead th {\n",
              "        text-align: right;\n",
              "    }\n",
              "</style>\n",
              "<table border=\"1\" class=\"dataframe\">\n",
              "  <thead>\n",
              "    <tr style=\"text-align: right;\">\n",
              "      <th></th>\n",
              "      <th>Id</th>\n",
              "      <th>Email</th>\n",
              "      <th>Phone</th>\n",
              "      <th>Contacts</th>\n",
              "      <th>OrderId</th>\n",
              "      <th>newId</th>\n",
              "    </tr>\n",
              "  </thead>\n",
              "  <tbody>\n",
              "    <tr>\n",
              "      <th>0</th>\n",
              "      <td>0</td>\n",
              "      <td>gkzAbIy@qq.com</td>\n",
              "      <td></td>\n",
              "      <td>1</td>\n",
              "      <td></td>\n",
              "      <td>0</td>\n",
              "    </tr>\n",
              "    <tr>\n",
              "      <th>1</th>\n",
              "      <td>1</td>\n",
              "      <td></td>\n",
              "      <td>329442681752</td>\n",
              "      <td>4</td>\n",
              "      <td>vDDJJcxfLtSfkooPhbYnJdxov</td>\n",
              "      <td>1-2458-98519-115061-140081-165605-476346</td>\n",
              "    </tr>\n",
              "    <tr>\n",
              "      <th>2</th>\n",
              "      <td>2</td>\n",
              "      <td></td>\n",
              "      <td>9125983679</td>\n",
              "      <td>0</td>\n",
              "      <td></td>\n",
              "      <td>2-159312-322639-348955</td>\n",
              "    </tr>\n",
              "    <tr>\n",
              "      <th>3</th>\n",
              "      <td>3</td>\n",
              "      <td>mdllpYmE@gmail.com</td>\n",
              "      <td></td>\n",
              "      <td>0</td>\n",
              "      <td>bHquEnCbbsGLqllwryxPsNOxa</td>\n",
              "      <td>3</td>\n",
              "    </tr>\n",
              "    <tr>\n",
              "      <th>4</th>\n",
              "      <td>4</td>\n",
              "      <td></td>\n",
              "      <td>300364407</td>\n",
              "      <td>2</td>\n",
              "      <td></td>\n",
              "      <td>4</td>\n",
              "    </tr>\n",
              "  </tbody>\n",
              "</table>\n",
              "</div>"
            ],
            "text/plain": [
              "  Id  ...                                     newId\n",
              "0  0  ...                                         0\n",
              "1  1  ...  1-2458-98519-115061-140081-165605-476346\n",
              "2  2  ...                    2-159312-322639-348955\n",
              "3  3  ...                                         3\n",
              "4  4  ...                                         4\n",
              "\n",
              "[5 rows x 6 columns]"
            ]
          },
          "metadata": {
            "tags": []
          },
          "execution_count": 14
        }
      ]
    },
    {
      "cell_type": "code",
      "metadata": {
        "colab": {
          "base_uri": "https://localhost:8080/",
          "height": 204
        },
        "id": "_SVUXAF-Su4T",
        "outputId": "50d7e388-97c5-475d-cf60-8626882b0119"
      },
      "source": [
        "df = df.assign(ContactsSum=df.groupby('newId')['Contacts'].transform('sum'))\n",
        "df.head(5)"
      ],
      "execution_count": 15,
      "outputs": [
        {
          "output_type": "execute_result",
          "data": {
            "text/html": [
              "<div>\n",
              "<style scoped>\n",
              "    .dataframe tbody tr th:only-of-type {\n",
              "        vertical-align: middle;\n",
              "    }\n",
              "\n",
              "    .dataframe tbody tr th {\n",
              "        vertical-align: top;\n",
              "    }\n",
              "\n",
              "    .dataframe thead th {\n",
              "        text-align: right;\n",
              "    }\n",
              "</style>\n",
              "<table border=\"1\" class=\"dataframe\">\n",
              "  <thead>\n",
              "    <tr style=\"text-align: right;\">\n",
              "      <th></th>\n",
              "      <th>Id</th>\n",
              "      <th>Email</th>\n",
              "      <th>Phone</th>\n",
              "      <th>Contacts</th>\n",
              "      <th>OrderId</th>\n",
              "      <th>newId</th>\n",
              "      <th>ContactsSum</th>\n",
              "    </tr>\n",
              "  </thead>\n",
              "  <tbody>\n",
              "    <tr>\n",
              "      <th>0</th>\n",
              "      <td>0</td>\n",
              "      <td>gkzAbIy@qq.com</td>\n",
              "      <td></td>\n",
              "      <td>1</td>\n",
              "      <td></td>\n",
              "      <td>0</td>\n",
              "      <td>1</td>\n",
              "    </tr>\n",
              "    <tr>\n",
              "      <th>1</th>\n",
              "      <td>1</td>\n",
              "      <td></td>\n",
              "      <td>329442681752</td>\n",
              "      <td>4</td>\n",
              "      <td>vDDJJcxfLtSfkooPhbYnJdxov</td>\n",
              "      <td>1-2458-98519-115061-140081-165605-476346</td>\n",
              "      <td>12</td>\n",
              "    </tr>\n",
              "    <tr>\n",
              "      <th>2</th>\n",
              "      <td>2</td>\n",
              "      <td></td>\n",
              "      <td>9125983679</td>\n",
              "      <td>0</td>\n",
              "      <td></td>\n",
              "      <td>2-159312-322639-348955</td>\n",
              "      <td>4</td>\n",
              "    </tr>\n",
              "    <tr>\n",
              "      <th>3</th>\n",
              "      <td>3</td>\n",
              "      <td>mdllpYmE@gmail.com</td>\n",
              "      <td></td>\n",
              "      <td>0</td>\n",
              "      <td>bHquEnCbbsGLqllwryxPsNOxa</td>\n",
              "      <td>3</td>\n",
              "      <td>0</td>\n",
              "    </tr>\n",
              "    <tr>\n",
              "      <th>4</th>\n",
              "      <td>4</td>\n",
              "      <td></td>\n",
              "      <td>300364407</td>\n",
              "      <td>2</td>\n",
              "      <td></td>\n",
              "      <td>4</td>\n",
              "      <td>2</td>\n",
              "    </tr>\n",
              "  </tbody>\n",
              "</table>\n",
              "</div>"
            ],
            "text/plain": [
              "  Id               Email  ...                                     newId  ContactsSum\n",
              "0  0      gkzAbIy@qq.com  ...                                         0            1\n",
              "1  1                      ...  1-2458-98519-115061-140081-165605-476346           12\n",
              "2  2                      ...                    2-159312-322639-348955            4\n",
              "3  3  mdllpYmE@gmail.com  ...                                         3            0\n",
              "4  4                      ...                                         4            2\n",
              "\n",
              "[5 rows x 7 columns]"
            ]
          },
          "metadata": {
            "tags": []
          },
          "execution_count": 15
        }
      ]
    },
    {
      "cell_type": "code",
      "metadata": {
        "colab": {
          "base_uri": "https://localhost:8080/",
          "height": 498
        },
        "id": "DWryLo5UTofU",
        "outputId": "ef762b49-f5d0-4121-9798-528e49231fde"
      },
      "source": [
        "# sanity check\n",
        "print(df[df.Id.isin({'215197', '50', '404324', '5', '212533', '226720', '458692', '383605', '482810'})].Contacts.sum())\n",
        "df[df.Id.isin({'215197', '50', '404324', '5', '212533', '226720', '458692', '383605', '482810'})]"
      ],
      "execution_count": 16,
      "outputs": [
        {
          "output_type": "stream",
          "text": [
            "15\n"
          ],
          "name": "stdout"
        },
        {
          "output_type": "execute_result",
          "data": {
            "text/html": [
              "<div>\n",
              "<style scoped>\n",
              "    .dataframe tbody tr th:only-of-type {\n",
              "        vertical-align: middle;\n",
              "    }\n",
              "\n",
              "    .dataframe tbody tr th {\n",
              "        vertical-align: top;\n",
              "    }\n",
              "\n",
              "    .dataframe thead th {\n",
              "        text-align: right;\n",
              "    }\n",
              "</style>\n",
              "<table border=\"1\" class=\"dataframe\">\n",
              "  <thead>\n",
              "    <tr style=\"text-align: right;\">\n",
              "      <th></th>\n",
              "      <th>Id</th>\n",
              "      <th>Email</th>\n",
              "      <th>Phone</th>\n",
              "      <th>Contacts</th>\n",
              "      <th>OrderId</th>\n",
              "      <th>newId</th>\n",
              "      <th>ContactsSum</th>\n",
              "    </tr>\n",
              "  </thead>\n",
              "  <tbody>\n",
              "    <tr>\n",
              "      <th>5</th>\n",
              "      <td>5</td>\n",
              "      <td></td>\n",
              "      <td>840113148</td>\n",
              "      <td>0</td>\n",
              "      <td></td>\n",
              "      <td>5-50-212533-215197-226720-383605-404324-458692...</td>\n",
              "      <td>15</td>\n",
              "    </tr>\n",
              "    <tr>\n",
              "      <th>50</th>\n",
              "      <td>50</td>\n",
              "      <td>TIMejlVYhfqjy@gmail.com</td>\n",
              "      <td>840113148</td>\n",
              "      <td>4</td>\n",
              "      <td>XBkNrwcWWslDvSQdhYPfCpQJo</td>\n",
              "      <td>5-50-212533-215197-226720-383605-404324-458692...</td>\n",
              "      <td>15</td>\n",
              "    </tr>\n",
              "    <tr>\n",
              "      <th>212533</th>\n",
              "      <td>212533</td>\n",
              "      <td>izafiOnTIVibbz@hotmail.com</td>\n",
              "      <td>04962058234</td>\n",
              "      <td>0</td>\n",
              "      <td></td>\n",
              "      <td>5-50-212533-215197-226720-383605-404324-458692...</td>\n",
              "      <td>15</td>\n",
              "    </tr>\n",
              "    <tr>\n",
              "      <th>215197</th>\n",
              "      <td>215197</td>\n",
              "      <td>izafiOnTIVibbz@hotmail.com</td>\n",
              "      <td>2529522887</td>\n",
              "      <td>0</td>\n",
              "      <td>sEgewZTtnDMAADcwLSjxsHiSK</td>\n",
              "      <td>5-50-212533-215197-226720-383605-404324-458692...</td>\n",
              "      <td>15</td>\n",
              "    </tr>\n",
              "    <tr>\n",
              "      <th>226720</th>\n",
              "      <td>226720</td>\n",
              "      <td></td>\n",
              "      <td>2529522887</td>\n",
              "      <td>4</td>\n",
              "      <td>XBkNrwcWWslDvSQdhYPfCpQJo</td>\n",
              "      <td>5-50-212533-215197-226720-383605-404324-458692...</td>\n",
              "      <td>15</td>\n",
              "    </tr>\n",
              "    <tr>\n",
              "      <th>383605</th>\n",
              "      <td>383605</td>\n",
              "      <td>izafiOnTIVibbz@hotmail.com</td>\n",
              "      <td></td>\n",
              "      <td>0</td>\n",
              "      <td></td>\n",
              "      <td>5-50-212533-215197-226720-383605-404324-458692...</td>\n",
              "      <td>15</td>\n",
              "    </tr>\n",
              "    <tr>\n",
              "      <th>404324</th>\n",
              "      <td>404324</td>\n",
              "      <td>yFcCGIfYcFKfmqpNk@yahoo.com</td>\n",
              "      <td></td>\n",
              "      <td>3</td>\n",
              "      <td></td>\n",
              "      <td>5-50-212533-215197-226720-383605-404324-458692...</td>\n",
              "      <td>15</td>\n",
              "    </tr>\n",
              "    <tr>\n",
              "      <th>458692</th>\n",
              "      <td>458692</td>\n",
              "      <td>yFcCGIfYcFKfmqpNk@yahoo.com</td>\n",
              "      <td></td>\n",
              "      <td>0</td>\n",
              "      <td>XBkNrwcWWslDvSQdhYPfCpQJo</td>\n",
              "      <td>5-50-212533-215197-226720-383605-404324-458692...</td>\n",
              "      <td>15</td>\n",
              "    </tr>\n",
              "    <tr>\n",
              "      <th>482810</th>\n",
              "      <td>482810</td>\n",
              "      <td>yFcCGIfYcFKfmqpNk@yahoo.com</td>\n",
              "      <td></td>\n",
              "      <td>4</td>\n",
              "      <td></td>\n",
              "      <td>5-50-212533-215197-226720-383605-404324-458692...</td>\n",
              "      <td>15</td>\n",
              "    </tr>\n",
              "  </tbody>\n",
              "</table>\n",
              "</div>"
            ],
            "text/plain": [
              "            Id  ... ContactsSum\n",
              "5            5  ...          15\n",
              "50          50  ...          15\n",
              "212533  212533  ...          15\n",
              "215197  215197  ...          15\n",
              "226720  226720  ...          15\n",
              "383605  383605  ...          15\n",
              "404324  404324  ...          15\n",
              "458692  458692  ...          15\n",
              "482810  482810  ...          15\n",
              "\n",
              "[9 rows x 7 columns]"
            ]
          },
          "metadata": {
            "tags": []
          },
          "execution_count": 16
        }
      ]
    },
    {
      "cell_type": "code",
      "metadata": {
        "colab": {
          "base_uri": "https://localhost:8080/",
          "height": 204
        },
        "id": "J7vUEtOcUksO",
        "outputId": "7f8873bc-1048-4829-9665-1681c6faa08a"
      },
      "source": [
        "# submission\n",
        "sub_df = df[['Id', 'newId']].copy()\n",
        "sub_df['newId'] = sub_df['newId'] + \", \" + df['ContactsSum'].astype(str)\n",
        "sub_df.columns = ['ticket_id', 'ticket_trace/contact']\n",
        "sub_df = sub_df.sort_values('ticket_id').reset_index(drop=True)\n",
        "sub_df.head()"
      ],
      "execution_count": 17,
      "outputs": [
        {
          "output_type": "execute_result",
          "data": {
            "text/html": [
              "<div>\n",
              "<style scoped>\n",
              "    .dataframe tbody tr th:only-of-type {\n",
              "        vertical-align: middle;\n",
              "    }\n",
              "\n",
              "    .dataframe tbody tr th {\n",
              "        vertical-align: top;\n",
              "    }\n",
              "\n",
              "    .dataframe thead th {\n",
              "        text-align: right;\n",
              "    }\n",
              "</style>\n",
              "<table border=\"1\" class=\"dataframe\">\n",
              "  <thead>\n",
              "    <tr style=\"text-align: right;\">\n",
              "      <th></th>\n",
              "      <th>ticket_id</th>\n",
              "      <th>ticket_trace/contact</th>\n",
              "    </tr>\n",
              "  </thead>\n",
              "  <tbody>\n",
              "    <tr>\n",
              "      <th>0</th>\n",
              "      <td>0</td>\n",
              "      <td>0, 1</td>\n",
              "    </tr>\n",
              "    <tr>\n",
              "      <th>1</th>\n",
              "      <td>1</td>\n",
              "      <td>1-2458-98519-115061-140081-165605-476346, 12</td>\n",
              "    </tr>\n",
              "    <tr>\n",
              "      <th>2</th>\n",
              "      <td>10</td>\n",
              "      <td>10-93270, 7</td>\n",
              "    </tr>\n",
              "    <tr>\n",
              "      <th>3</th>\n",
              "      <td>100</td>\n",
              "      <td>100-822-1157-79530-95287-109959-129043-146402-...</td>\n",
              "    </tr>\n",
              "    <tr>\n",
              "      <th>4</th>\n",
              "      <td>1000</td>\n",
              "      <td>1000-86254, 3</td>\n",
              "    </tr>\n",
              "  </tbody>\n",
              "</table>\n",
              "</div>"
            ],
            "text/plain": [
              "  ticket_id                               ticket_trace/contact\n",
              "0         0                                               0, 1\n",
              "1         1       1-2458-98519-115061-140081-165605-476346, 12\n",
              "2        10                                        10-93270, 7\n",
              "3       100  100-822-1157-79530-95287-109959-129043-146402-...\n",
              "4      1000                                      1000-86254, 3"
            ]
          },
          "metadata": {
            "tags": []
          },
          "execution_count": 17
        }
      ]
    },
    {
      "cell_type": "code",
      "metadata": {
        "id": "bn1DNAQldPjF"
      },
      "source": [
        "sub_df.to_csv(\"answer.csv\", index=False)"
      ],
      "execution_count": 18,
      "outputs": []
    }
  ]
}