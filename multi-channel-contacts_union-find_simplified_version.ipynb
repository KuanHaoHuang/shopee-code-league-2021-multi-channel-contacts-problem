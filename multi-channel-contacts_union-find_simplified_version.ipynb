{
  "nbformat": 4,
  "nbformat_minor": 0,
  "metadata": {
    "colab": {
      "name": "shopee_2021_wilsonhuang_union-find.ipynb",
      "provenance": []
    },
    "kernelspec": {
      "display_name": "Python 3",
      "name": "python3"
    }
  },
  "cells": [
    {
      "cell_type": "code",
      "metadata": {
        "colab": {
          "base_uri": "https://localhost:8080/"
        },
        "id": "y6KEk6k9ExE2",
        "outputId": "c78e9138-5c2a-45ab-f8dd-61bff5abc246"
      },
      "source": [
        "from google.colab import drive\n",
        "import os\n",
        "drive.mount('/content/gdrive')"
      ],
      "execution_count": 41,
      "outputs": [
        {
          "output_type": "stream",
          "text": [
            "Drive already mounted at /content/gdrive; to attempt to forcibly remount, call drive.mount(\"/content/gdrive\", force_remount=True).\n"
          ],
          "name": "stdout"
        }
      ]
    },
    {
      "cell_type": "code",
      "metadata": {
        "id": "YfGgvHCpJO-k"
      },
      "source": [
        "import json\n",
        "with open('gdrive/MyDrive/contacts.json') as f:\n",
        "  data = json.loads(f.read())"
      ],
      "execution_count": 42,
      "outputs": []
    },
    {
      "cell_type": "code",
      "metadata": {
        "colab": {
          "base_uri": "https://localhost:8080/"
        },
        "id": "MGf5WhHJJehk",
        "outputId": "492673a5-ca4d-41e6-b144-1ecbc681e107"
      },
      "source": [
        "data[0:3]"
      ],
      "execution_count": 43,
      "outputs": [
        {
          "output_type": "execute_result",
          "data": {
            "text/plain": [
              "[{'Contacts': 1,\n",
              "  'Email': 'gkzAbIy@qq.com',\n",
              "  'Id': 0,\n",
              "  'OrderId': '',\n",
              "  'Phone': ''},\n",
              " {'Contacts': 4,\n",
              "  'Email': '',\n",
              "  'Id': 1,\n",
              "  'OrderId': 'vDDJJcxfLtSfkooPhbYnJdxov',\n",
              "  'Phone': '329442681752'},\n",
              " {'Contacts': 0, 'Email': '', 'Id': 2, 'OrderId': '', 'Phone': '9125983679'}]"
            ]
          },
          "metadata": {
            "tags": []
          },
          "execution_count": 43
        }
      ]
    },
    {
      "cell_type": "code",
      "metadata": {
        "id": "PtblwiZeJ5ug"
      },
      "source": [
        "import pandas as pd\n",
        "df = pd.json_normalize(data)"
      ],
      "execution_count": 44,
      "outputs": []
    },
    {
      "cell_type": "code",
      "metadata": {
        "colab": {
          "base_uri": "https://localhost:8080/",
          "height": 204
        },
        "id": "DoOqLG3jKXj9",
        "outputId": "561e3878-dec6-4658-eb7c-22135d9632de"
      },
      "source": [
        "df.head()"
      ],
      "execution_count": 45,
      "outputs": [
        {
          "output_type": "execute_result",
          "data": {
            "text/html": [
              "<div>\n",
              "<style scoped>\n",
              "    .dataframe tbody tr th:only-of-type {\n",
              "        vertical-align: middle;\n",
              "    }\n",
              "\n",
              "    .dataframe tbody tr th {\n",
              "        vertical-align: top;\n",
              "    }\n",
              "\n",
              "    .dataframe thead th {\n",
              "        text-align: right;\n",
              "    }\n",
              "</style>\n",
              "<table border=\"1\" class=\"dataframe\">\n",
              "  <thead>\n",
              "    <tr style=\"text-align: right;\">\n",
              "      <th></th>\n",
              "      <th>Id</th>\n",
              "      <th>Email</th>\n",
              "      <th>Phone</th>\n",
              "      <th>Contacts</th>\n",
              "      <th>OrderId</th>\n",
              "    </tr>\n",
              "  </thead>\n",
              "  <tbody>\n",
              "    <tr>\n",
              "      <th>0</th>\n",
              "      <td>0</td>\n",
              "      <td>gkzAbIy@qq.com</td>\n",
              "      <td></td>\n",
              "      <td>1</td>\n",
              "      <td></td>\n",
              "    </tr>\n",
              "    <tr>\n",
              "      <th>1</th>\n",
              "      <td>1</td>\n",
              "      <td></td>\n",
              "      <td>329442681752</td>\n",
              "      <td>4</td>\n",
              "      <td>vDDJJcxfLtSfkooPhbYnJdxov</td>\n",
              "    </tr>\n",
              "    <tr>\n",
              "      <th>2</th>\n",
              "      <td>2</td>\n",
              "      <td></td>\n",
              "      <td>9125983679</td>\n",
              "      <td>0</td>\n",
              "      <td></td>\n",
              "    </tr>\n",
              "    <tr>\n",
              "      <th>3</th>\n",
              "      <td>3</td>\n",
              "      <td>mdllpYmE@gmail.com</td>\n",
              "      <td></td>\n",
              "      <td>0</td>\n",
              "      <td>bHquEnCbbsGLqllwryxPsNOxa</td>\n",
              "    </tr>\n",
              "    <tr>\n",
              "      <th>4</th>\n",
              "      <td>4</td>\n",
              "      <td></td>\n",
              "      <td>300364407</td>\n",
              "      <td>2</td>\n",
              "      <td></td>\n",
              "    </tr>\n",
              "  </tbody>\n",
              "</table>\n",
              "</div>"
            ],
            "text/plain": [
              "   Id               Email         Phone  Contacts                    OrderId\n",
              "0   0      gkzAbIy@qq.com                       1                           \n",
              "1   1                      329442681752         4  vDDJJcxfLtSfkooPhbYnJdxov\n",
              "2   2                        9125983679         0                           \n",
              "3   3  mdllpYmE@gmail.com                       0  bHquEnCbbsGLqllwryxPsNOxa\n",
              "4   4                         300364407         2                           "
            ]
          },
          "metadata": {
            "tags": []
          },
          "execution_count": 45
        }
      ]
    },
    {
      "cell_type": "code",
      "metadata": {
        "colab": {
          "base_uri": "https://localhost:8080/"
        },
        "id": "TExmA6F0Kv06",
        "outputId": "c76c129d-b30c-475b-d841-b38dda56b986"
      },
      "source": [
        "len(df[(df.Email != \"\") | (df.Phone != \"\") | (df.OrderId != \"\")])"
      ],
      "execution_count": 46,
      "outputs": [
        {
          "output_type": "execute_result",
          "data": {
            "text/plain": [
              "500000"
            ]
          },
          "metadata": {
            "tags": []
          },
          "execution_count": 46
        }
      ]
    },
    {
      "cell_type": "code",
      "metadata": {
        "colab": {
          "base_uri": "https://localhost:8080/"
        },
        "id": "UJQxoSZVLKxk",
        "outputId": "c37c0996-663d-4252-dce1-7c1ae01ce720"
      },
      "source": [
        "print(df.Email.nunique())\n",
        "print(df.Phone.nunique())\n",
        "print(df.OrderId.nunique())"
      ],
      "execution_count": 47,
      "outputs": [
        {
          "output_type": "stream",
          "text": [
            "249157\n",
            "190678\n",
            "189303\n"
          ],
          "name": "stdout"
        }
      ]
    },
    {
      "cell_type": "code",
      "metadata": {
        "id": "yQGhnkPnq2TV"
      },
      "source": [
        "# Union-Find Structrue\n",
        "class UF:\n",
        "  def __init__(self, node_list):\n",
        "    self.data = {nd: nd for nd in node_list}\n",
        "\n",
        "  def _find_deepest_node(self, node):\n",
        "    while self.data[node] != node:\n",
        "      node = self.data[node]\n",
        "    return node\n",
        "\n",
        "  def connect(self, node_1, node_2):\n",
        "    if node_1 > node_2: node_1, node_2 = node_2, node_1\n",
        "    self.data[self._find_deepest_node(node_2)] = self._find_deepest_node(node_1)\n",
        "\n",
        "  def get_data(self):\n",
        "    return {k: self._find_deepest_node(v) for k, v in self.data.items()}"
      ],
      "execution_count": 48,
      "outputs": []
    },
    {
      "cell_type": "code",
      "metadata": {
        "colab": {
          "base_uri": "https://localhost:8080/"
        },
        "id": "3ctDlJIrr3Nf",
        "outputId": "910f14cc-725f-46af-c541-193705b6a79f"
      },
      "source": [
        "# Test UF structure\n",
        "tmp_uf = UF([3, 5, 6, 42, 100, 201])\n",
        "print(tmp_uf.data)\n",
        "tmp_uf.connect(6, 3)\n",
        "print(\"connect 6, 3: \\n\", tmp_uf.data)\n",
        "tmp_uf.connect(201, 42)\n",
        "print(\"connect 201, 42: \\n\", tmp_uf.data)\n",
        "tmp_uf.connect(42, 6)\n",
        "print(\"connect 42, 6: \\n\", tmp_uf.data)\n",
        "print(\"final:\")\n",
        "print(tmp_uf.get_data())"
      ],
      "execution_count": 49,
      "outputs": [
        {
          "output_type": "stream",
          "text": [
            "{3: 3, 5: 5, 6: 6, 42: 42, 100: 100, 201: 201}\n",
            "connect 6, 3: \n",
            " {3: 3, 5: 5, 6: 3, 42: 42, 100: 100, 201: 201}\n",
            "connect 201, 42: \n",
            " {3: 3, 5: 5, 6: 3, 42: 42, 100: 100, 201: 42}\n",
            "connect 42, 6: \n",
            " {3: 3, 5: 5, 6: 3, 42: 3, 100: 100, 201: 42}\n",
            "final:\n",
            "{3: 3, 5: 5, 6: 3, 42: 3, 100: 100, 201: 3}\n"
          ],
          "name": "stdout"
        }
      ]
    },
    {
      "cell_type": "code",
      "metadata": {
        "id": "kxBEMSqnuBhV"
      },
      "source": [
        "# UF initialization\n",
        "node_list = [x['Id'] for x in data]\n",
        "assert len(node_list) == len(set(node_list)) # make sure ids unique\n",
        "uf = UF(node_list)"
      ],
      "execution_count": 50,
      "outputs": []
    },
    {
      "cell_type": "code",
      "metadata": {
        "id": "mw6fJBDPugih"
      },
      "source": [
        "for feat in ['OrderId', 'Phone', 'Email']:\n",
        "  val_cnt = df[feat].value_counts()\n",
        "  candidate = {x for x in val_cnt[(val_cnt > 1)].index if x != \"\"}\n",
        "  for _, grp in df[df[feat].isin(candidate)].groupby(feat):\n",
        "    group_ids = set(grp.Id)\n",
        "    pivot_id = min(group_ids)\n",
        "    for id_ in group_ids:\n",
        "      if id_ != pivot_id:\n",
        "        uf.connect(pivot_id, id_)"
      ],
      "execution_count": 51,
      "outputs": []
    },
    {
      "cell_type": "code",
      "metadata": {
        "id": "746NtvmVvY6R"
      },
      "source": [
        "# id -> group id\n",
        "remap = uf.get_data()"
      ],
      "execution_count": 52,
      "outputs": []
    },
    {
      "cell_type": "code",
      "metadata": {
        "colab": {
          "base_uri": "https://localhost:8080/"
        },
        "id": "D0lUrgnsvh8r",
        "outputId": "1d0f1acd-161d-4fdc-e3be-0fd483ea7e25"
      },
      "source": [
        "# sanity check\n",
        "for i in sorted({215197, 50, 404324, 5, 212533, 226720, 458692, 383605, 482810}):\n",
        "  print(f'{i:>10}:    {remap[i]}')"
      ],
      "execution_count": 53,
      "outputs": [
        {
          "output_type": "stream",
          "text": [
            "         5:    404324\n",
            "        50:    404324\n",
            "    212533:    404324\n",
            "    215197:    404324\n",
            "    226720:    404324\n",
            "    383605:    404324\n",
            "    404324:    404324\n",
            "    458692:    404324\n",
            "    482810:    404324\n"
          ],
          "name": "stdout"
        }
      ]
    },
    {
      "cell_type": "code",
      "metadata": {
        "colab": {
          "base_uri": "https://localhost:8080/",
          "height": 204
        },
        "id": "zHctIwewwO_U",
        "outputId": "f7561a0b-bffd-43d2-c68e-aac118419898"
      },
      "source": [
        "# Process data frame according to group id\n",
        "df['groupId'] = [remap[id_] for id_ in df.Id]\n",
        "df = df.assign(newId=df.groupby('groupId')['Id'].transform(lambda x: '-'.join(str(s) for s in sorted(x, key=int))))\n",
        "df = df.assign(ContactsSum=df.groupby('groupId')['Contacts'].transform('sum'))\n",
        "df.head(5)"
      ],
      "execution_count": 54,
      "outputs": [
        {
          "output_type": "execute_result",
          "data": {
            "text/html": [
              "<div>\n",
              "<style scoped>\n",
              "    .dataframe tbody tr th:only-of-type {\n",
              "        vertical-align: middle;\n",
              "    }\n",
              "\n",
              "    .dataframe tbody tr th {\n",
              "        vertical-align: top;\n",
              "    }\n",
              "\n",
              "    .dataframe thead th {\n",
              "        text-align: right;\n",
              "    }\n",
              "</style>\n",
              "<table border=\"1\" class=\"dataframe\">\n",
              "  <thead>\n",
              "    <tr style=\"text-align: right;\">\n",
              "      <th></th>\n",
              "      <th>Id</th>\n",
              "      <th>Email</th>\n",
              "      <th>Phone</th>\n",
              "      <th>Contacts</th>\n",
              "      <th>OrderId</th>\n",
              "      <th>groupId</th>\n",
              "      <th>newId</th>\n",
              "      <th>ContactsSum</th>\n",
              "    </tr>\n",
              "  </thead>\n",
              "  <tbody>\n",
              "    <tr>\n",
              "      <th>0</th>\n",
              "      <td>0</td>\n",
              "      <td>gkzAbIy@qq.com</td>\n",
              "      <td></td>\n",
              "      <td>1</td>\n",
              "      <td></td>\n",
              "      <td>0</td>\n",
              "      <td>0</td>\n",
              "      <td>1</td>\n",
              "    </tr>\n",
              "    <tr>\n",
              "      <th>1</th>\n",
              "      <td>1</td>\n",
              "      <td></td>\n",
              "      <td>329442681752</td>\n",
              "      <td>4</td>\n",
              "      <td>vDDJJcxfLtSfkooPhbYnJdxov</td>\n",
              "      <td>140081</td>\n",
              "      <td>1-2458-98519-115061-140081-165605-476346</td>\n",
              "      <td>12</td>\n",
              "    </tr>\n",
              "    <tr>\n",
              "      <th>2</th>\n",
              "      <td>2</td>\n",
              "      <td></td>\n",
              "      <td>9125983679</td>\n",
              "      <td>0</td>\n",
              "      <td></td>\n",
              "      <td>159312</td>\n",
              "      <td>2-159312-322639-348955</td>\n",
              "      <td>4</td>\n",
              "    </tr>\n",
              "    <tr>\n",
              "      <th>3</th>\n",
              "      <td>3</td>\n",
              "      <td>mdllpYmE@gmail.com</td>\n",
              "      <td></td>\n",
              "      <td>0</td>\n",
              "      <td>bHquEnCbbsGLqllwryxPsNOxa</td>\n",
              "      <td>3</td>\n",
              "      <td>3</td>\n",
              "      <td>0</td>\n",
              "    </tr>\n",
              "    <tr>\n",
              "      <th>4</th>\n",
              "      <td>4</td>\n",
              "      <td></td>\n",
              "      <td>300364407</td>\n",
              "      <td>2</td>\n",
              "      <td></td>\n",
              "      <td>4</td>\n",
              "      <td>4</td>\n",
              "      <td>2</td>\n",
              "    </tr>\n",
              "  </tbody>\n",
              "</table>\n",
              "</div>"
            ],
            "text/plain": [
              "   Id  ... ContactsSum\n",
              "0   0  ...           1\n",
              "1   1  ...          12\n",
              "2   2  ...           4\n",
              "3   3  ...           0\n",
              "4   4  ...           2\n",
              "\n",
              "[5 rows x 8 columns]"
            ]
          },
          "metadata": {
            "tags": []
          },
          "execution_count": 54
        }
      ]
    },
    {
      "cell_type": "code",
      "metadata": {
        "colab": {
          "base_uri": "https://localhost:8080/",
          "height": 651
        },
        "id": "sg4KcZQXxufQ",
        "outputId": "b009cf91-c72f-4461-c5b4-fbcfb2fad8f0"
      },
      "source": [
        "# sanity check\n",
        "print(df[df.Id.isin({215197, 50, 404324, 5, 212533, 226720, 458692, 383605, 482810})].Contacts.sum())\n",
        "df[df.Id.isin({215197, 50, 404324, 5, 212533, 226720, 458692, 383605, 482810})]"
      ],
      "execution_count": 55,
      "outputs": [
        {
          "output_type": "stream",
          "text": [
            "15\n"
          ],
          "name": "stdout"
        },
        {
          "output_type": "execute_result",
          "data": {
            "text/html": [
              "<div>\n",
              "<style scoped>\n",
              "    .dataframe tbody tr th:only-of-type {\n",
              "        vertical-align: middle;\n",
              "    }\n",
              "\n",
              "    .dataframe tbody tr th {\n",
              "        vertical-align: top;\n",
              "    }\n",
              "\n",
              "    .dataframe thead th {\n",
              "        text-align: right;\n",
              "    }\n",
              "</style>\n",
              "<table border=\"1\" class=\"dataframe\">\n",
              "  <thead>\n",
              "    <tr style=\"text-align: right;\">\n",
              "      <th></th>\n",
              "      <th>Id</th>\n",
              "      <th>Email</th>\n",
              "      <th>Phone</th>\n",
              "      <th>Contacts</th>\n",
              "      <th>OrderId</th>\n",
              "      <th>groupId</th>\n",
              "      <th>newId</th>\n",
              "      <th>ContactsSum</th>\n",
              "    </tr>\n",
              "  </thead>\n",
              "  <tbody>\n",
              "    <tr>\n",
              "      <th>5</th>\n",
              "      <td>5</td>\n",
              "      <td></td>\n",
              "      <td>840113148</td>\n",
              "      <td>0</td>\n",
              "      <td></td>\n",
              "      <td>404324</td>\n",
              "      <td>5-50-212533-215197-226720-383605-404324-458692...</td>\n",
              "      <td>15</td>\n",
              "    </tr>\n",
              "    <tr>\n",
              "      <th>50</th>\n",
              "      <td>50</td>\n",
              "      <td>TIMejlVYhfqjy@gmail.com</td>\n",
              "      <td>840113148</td>\n",
              "      <td>4</td>\n",
              "      <td>XBkNrwcWWslDvSQdhYPfCpQJo</td>\n",
              "      <td>404324</td>\n",
              "      <td>5-50-212533-215197-226720-383605-404324-458692...</td>\n",
              "      <td>15</td>\n",
              "    </tr>\n",
              "    <tr>\n",
              "      <th>212533</th>\n",
              "      <td>212533</td>\n",
              "      <td>izafiOnTIVibbz@hotmail.com</td>\n",
              "      <td>04962058234</td>\n",
              "      <td>0</td>\n",
              "      <td></td>\n",
              "      <td>404324</td>\n",
              "      <td>5-50-212533-215197-226720-383605-404324-458692...</td>\n",
              "      <td>15</td>\n",
              "    </tr>\n",
              "    <tr>\n",
              "      <th>215197</th>\n",
              "      <td>215197</td>\n",
              "      <td>izafiOnTIVibbz@hotmail.com</td>\n",
              "      <td>2529522887</td>\n",
              "      <td>0</td>\n",
              "      <td>sEgewZTtnDMAADcwLSjxsHiSK</td>\n",
              "      <td>404324</td>\n",
              "      <td>5-50-212533-215197-226720-383605-404324-458692...</td>\n",
              "      <td>15</td>\n",
              "    </tr>\n",
              "    <tr>\n",
              "      <th>226720</th>\n",
              "      <td>226720</td>\n",
              "      <td></td>\n",
              "      <td>2529522887</td>\n",
              "      <td>4</td>\n",
              "      <td>XBkNrwcWWslDvSQdhYPfCpQJo</td>\n",
              "      <td>404324</td>\n",
              "      <td>5-50-212533-215197-226720-383605-404324-458692...</td>\n",
              "      <td>15</td>\n",
              "    </tr>\n",
              "    <tr>\n",
              "      <th>383605</th>\n",
              "      <td>383605</td>\n",
              "      <td>izafiOnTIVibbz@hotmail.com</td>\n",
              "      <td></td>\n",
              "      <td>0</td>\n",
              "      <td></td>\n",
              "      <td>404324</td>\n",
              "      <td>5-50-212533-215197-226720-383605-404324-458692...</td>\n",
              "      <td>15</td>\n",
              "    </tr>\n",
              "    <tr>\n",
              "      <th>404324</th>\n",
              "      <td>404324</td>\n",
              "      <td>yFcCGIfYcFKfmqpNk@yahoo.com</td>\n",
              "      <td></td>\n",
              "      <td>3</td>\n",
              "      <td></td>\n",
              "      <td>404324</td>\n",
              "      <td>5-50-212533-215197-226720-383605-404324-458692...</td>\n",
              "      <td>15</td>\n",
              "    </tr>\n",
              "    <tr>\n",
              "      <th>458692</th>\n",
              "      <td>458692</td>\n",
              "      <td>yFcCGIfYcFKfmqpNk@yahoo.com</td>\n",
              "      <td></td>\n",
              "      <td>0</td>\n",
              "      <td>XBkNrwcWWslDvSQdhYPfCpQJo</td>\n",
              "      <td>404324</td>\n",
              "      <td>5-50-212533-215197-226720-383605-404324-458692...</td>\n",
              "      <td>15</td>\n",
              "    </tr>\n",
              "    <tr>\n",
              "      <th>482810</th>\n",
              "      <td>482810</td>\n",
              "      <td>yFcCGIfYcFKfmqpNk@yahoo.com</td>\n",
              "      <td></td>\n",
              "      <td>4</td>\n",
              "      <td></td>\n",
              "      <td>404324</td>\n",
              "      <td>5-50-212533-215197-226720-383605-404324-458692...</td>\n",
              "      <td>15</td>\n",
              "    </tr>\n",
              "  </tbody>\n",
              "</table>\n",
              "</div>"
            ],
            "text/plain": [
              "            Id  ... ContactsSum\n",
              "5            5  ...          15\n",
              "50          50  ...          15\n",
              "212533  212533  ...          15\n",
              "215197  215197  ...          15\n",
              "226720  226720  ...          15\n",
              "383605  383605  ...          15\n",
              "404324  404324  ...          15\n",
              "458692  458692  ...          15\n",
              "482810  482810  ...          15\n",
              "\n",
              "[9 rows x 8 columns]"
            ]
          },
          "metadata": {
            "tags": []
          },
          "execution_count": 55
        }
      ]
    },
    {
      "cell_type": "code",
      "metadata": {
        "colab": {
          "base_uri": "https://localhost:8080/",
          "height": 204
        },
        "id": "wCuFeJysyDdt",
        "outputId": "caebae06-7b69-4300-fd91-8357ee12c512"
      },
      "source": [
        "# submission\n",
        "sub_df = df[['Id', 'newId']].copy()\n",
        "sub_df['newId'] = sub_df['newId'] + \", \" + df['ContactsSum'].astype(str)\n",
        "sub_df.columns = ['ticket_id', 'ticket_trace/contact']\n",
        "sub_df = sub_df.sort_values('ticket_id').reset_index(drop=True)\n",
        "sub_df.head()"
      ],
      "execution_count": 56,
      "outputs": [
        {
          "output_type": "execute_result",
          "data": {
            "text/html": [
              "<div>\n",
              "<style scoped>\n",
              "    .dataframe tbody tr th:only-of-type {\n",
              "        vertical-align: middle;\n",
              "    }\n",
              "\n",
              "    .dataframe tbody tr th {\n",
              "        vertical-align: top;\n",
              "    }\n",
              "\n",
              "    .dataframe thead th {\n",
              "        text-align: right;\n",
              "    }\n",
              "</style>\n",
              "<table border=\"1\" class=\"dataframe\">\n",
              "  <thead>\n",
              "    <tr style=\"text-align: right;\">\n",
              "      <th></th>\n",
              "      <th>ticket_id</th>\n",
              "      <th>ticket_trace/contact</th>\n",
              "    </tr>\n",
              "  </thead>\n",
              "  <tbody>\n",
              "    <tr>\n",
              "      <th>0</th>\n",
              "      <td>0</td>\n",
              "      <td>0, 1</td>\n",
              "    </tr>\n",
              "    <tr>\n",
              "      <th>1</th>\n",
              "      <td>1</td>\n",
              "      <td>1-2458-98519-115061-140081-165605-476346, 12</td>\n",
              "    </tr>\n",
              "    <tr>\n",
              "      <th>2</th>\n",
              "      <td>2</td>\n",
              "      <td>2-159312-322639-348955, 4</td>\n",
              "    </tr>\n",
              "    <tr>\n",
              "      <th>3</th>\n",
              "      <td>3</td>\n",
              "      <td>3, 0</td>\n",
              "    </tr>\n",
              "    <tr>\n",
              "      <th>4</th>\n",
              "      <td>4</td>\n",
              "      <td>4, 2</td>\n",
              "    </tr>\n",
              "  </tbody>\n",
              "</table>\n",
              "</div>"
            ],
            "text/plain": [
              "   ticket_id                          ticket_trace/contact\n",
              "0          0                                          0, 1\n",
              "1          1  1-2458-98519-115061-140081-165605-476346, 12\n",
              "2          2                     2-159312-322639-348955, 4\n",
              "3          3                                          3, 0\n",
              "4          4                                          4, 2"
            ]
          },
          "metadata": {
            "tags": []
          },
          "execution_count": 56
        }
      ]
    },
    {
      "cell_type": "code",
      "metadata": {
        "id": "bn1DNAQldPjF"
      },
      "source": [
        "sub_df.to_csv(\"answer.csv\", index=False)"
      ],
      "execution_count": 57,
      "outputs": []
    }
  ]
}